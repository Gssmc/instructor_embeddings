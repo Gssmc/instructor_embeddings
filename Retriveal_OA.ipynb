{
 "cells": [
  {
   "cell_type": "code",
   "execution_count": 1,
   "metadata": {},
   "outputs": [
    {
     "name": "stderr",
     "output_type": "stream",
     "text": [
      "c:\\Users\\GokulSivakumar\\Desktop\\Sentance_Transformation\\.venv\\Lib\\site-packages\\InstructorEmbedding\\instructor.py:7: TqdmWarning: IProgress not found. Please update jupyter and ipywidgets. See https://ipywidgets.readthedocs.io/en/stable/user_install.html\n",
      "  from tqdm.autonotebook import trange\n"
     ]
    }
   ],
   "source": [
    "from langchain.vectorstores import Chroma\n",
    "from langchain.text_splitter import RecursiveCharacterTextSplitter\n",
    "from langchain.llms import OpenAI\n",
    "from langchain.chains import RetrievalQA\n",
    "from langchain.document_loaders import TextLoader\n",
    "from langchain.document_loaders import PyPDFLoader\n",
    "from langchain.document_loaders import DirectoryLoader\n",
    "\n",
    "\n",
    "from InstructorEmbedding import INSTRUCTOR\n",
    "from langchain.embeddings import HuggingFaceInstructEmbeddings\n"
   ]
  },
  {
   "cell_type": "code",
   "execution_count": 2,
   "metadata": {},
   "outputs": [],
   "source": [
    "from langchain_community.document_loaders.csv_loader import CSVLoader\n",
    "\n",
    "\n",
    "loader = CSVLoader(file_path='C:\\\\Users\\\\GokulSivakumar\\\\Desktop\\\\Sentance_Transformation\\\\marketing_sample_for_myntra_com-ecommerce__20190601_20190831__15k_data.csv')\n",
    "documents = loader.load()"
   ]
  },
  {
   "cell_type": "code",
   "execution_count": 3,
   "metadata": {},
   "outputs": [
    {
     "data": {
      "text/plain": [
       "9"
      ]
     },
     "execution_count": 3,
     "metadata": {},
     "output_type": "execute_result"
    }
   ],
   "source": [
    "len(documents)"
   ]
  },
  {
   "cell_type": "code",
   "execution_count": 4,
   "metadata": {},
   "outputs": [],
   "source": [
    "text_splitter = RecursiveCharacterTextSplitter(chunk_size=1000, chunk_overlap=200)\n",
    "texts = text_splitter.split_documents(documents)"
   ]
  },
  {
   "cell_type": "code",
   "execution_count": 5,
   "metadata": {},
   "outputs": [
    {
     "data": {
      "text/plain": [
       "22"
      ]
     },
     "execution_count": 5,
     "metadata": {},
     "output_type": "execute_result"
    }
   ],
   "source": [
    "len(texts)"
   ]
  },
  {
   "cell_type": "code",
   "execution_count": 6,
   "metadata": {},
   "outputs": [
    {
     "data": {
      "text/plain": [
       "Document(page_content='complete_the_look: From House of Pataudi, this kurta is a great way to show off your style.  Dress this black piece up with your favourite accessories and head out to any family event in style.\\ntype: Clothing/Men/Kurtas/House of Pataudi/More by House of Pataudi\\nvariant_price: 799\\nvariant_compare_at_price: 1999\\nideal_for: Men\\nis_in_stock: In Stock\\ninventory: Shape : Straight | Sleeve Styling : Regular Sleeves | Occasion : Daily | Print or Pattern Type : Geometric | Number of Components : 1 | Design Styling : Regular | Colour Family : Monochrome | Neck : Mandarin Collar | Pattern : Printed | Body or Garment Size : Garment Measurements in | Sleeve Length : Long Sleeves | Weave Pattern : Regular | Fabric Purity : Pure | Stitch : Ready to Wear | Hemline : Straight | Wash Care : Machine Wash | Weave Type : Machine Weave | Length : Knee Length | Slit Detail : Side Slits | Fabric : Cotton\\nspecifications:', metadata={'source': 'C:\\\\Users\\\\GokulSivakumar\\\\Desktop\\\\Sentance_Transformation\\\\marketing_sample_for_myntra_com-ecommerce__20190601_20190831__15k_data.csv', 'row': 1})"
      ]
     },
     "execution_count": 6,
     "metadata": {},
     "output_type": "execute_result"
    }
   ],
   "source": [
    "texts[3]"
   ]
  },
  {
   "cell_type": "code",
   "execution_count": 7,
   "metadata": {},
   "outputs": [],
   "source": [
    "from langchain.embeddings import HuggingFaceEmbeddings\n",
    "\n",
    "instructor_embeddings = HuggingFaceEmbeddings(\n",
    "    model_name=\"hkunlp/instructor-xl\"\n",
    ")"
   ]
  },
  {
   "cell_type": "code",
   "execution_count": 8,
   "metadata": {},
   "outputs": [],
   "source": [
    "from langchain.vectorstores import Chroma"
   ]
  },
  {
   "cell_type": "code",
   "execution_count": 9,
   "metadata": {},
   "outputs": [],
   "source": [
    "persist_directory = 'db'\n",
    "\n",
    "## Here is the nmew embeddings being used\n",
    "embedding = instructor_embeddings\n",
    "\n",
    "vectordb = Chroma.from_documents(documents=texts, \n",
    "                                 embedding=embedding,\n",
    "                                 persist_directory=persist_directory)"
   ]
  },
  {
   "cell_type": "code",
   "execution_count": 10,
   "metadata": {},
   "outputs": [],
   "source": [
    "vectordb=vectordb"
   ]
  },
  {
   "cell_type": "code",
   "execution_count": 11,
   "metadata": {},
   "outputs": [],
   "source": [
    "vectordb.persist()\n",
    "vectordb = None"
   ]
  },
  {
   "cell_type": "code",
   "execution_count": 12,
   "metadata": {},
   "outputs": [],
   "source": [
    "vectordb = Chroma(persist_directory=persist_directory, \n",
    "                  embedding_function=embedding)"
   ]
  },
  {
   "cell_type": "code",
   "execution_count": 13,
   "metadata": {},
   "outputs": [],
   "source": [
    "retriever = vectordb.as_retriever()"
   ]
  },
  {
   "cell_type": "code",
   "execution_count": 14,
   "metadata": {},
   "outputs": [],
   "source": [
    "docs = retriever.get_relevant_documents(\"unisex dominant color\")"
   ]
  },
  {
   "cell_type": "code",
   "execution_count": 15,
   "metadata": {},
   "outputs": [
    {
     "data": {
      "text/plain": [
       "4"
      ]
     },
     "execution_count": 15,
     "metadata": {},
     "output_type": "execute_result"
    }
   ],
   "source": [
    "len(docs)"
   ]
  },
  {
   "cell_type": "code",
   "execution_count": 16,
   "metadata": {},
   "outputs": [
    {
     "data": {
      "text/plain": [
       "Document(page_content=\"size: XL\\nbrand: The Indian Garage Co\\ncare_instructions: Cotton  | Machine-wash\\ndominant_material: Cotton\\ntitle: The Indian Garage Co Men Blue & White Printed A-Line Kurta\\nactual_color: Blue | White\\ndominant_color: Blue\\nproduct_type: A-Line Kurta\\nbody: Blue and white printed A-line kurta, has a mandarin collar, long sleeves, zip closure, shoulder tabs, curved hem, side slits\\nThe model (height 6') is wearing a size M\\nCotton  Machine-wash\\nFrom The Indian Garage Co, this kurta is a great way to show off your style.  You'll look dapper as ever in this blue piece paired with slim jeans and sandals, ideal for any nice family gathering.\\nproduct_details: Blue and white printed A-line kurta, has a mandarin collar, long sleeves, zip closure, shoulder tabs, curved hem, side slits\\nsize_fit: The model (height 6') is wearing a size M\", metadata={'row': 7, 'source': 'C:\\\\Users\\\\GokulSivakumar\\\\Desktop\\\\Sentance_Transformation\\\\marketing_sample_for_myntra_com-ecommerce__20190601_20190831__15k_data.csv'})"
      ]
     },
     "execution_count": 16,
     "metadata": {},
     "output_type": "execute_result"
    }
   ],
   "source": [
    "docs[0]"
   ]
  },
  {
   "cell_type": "code",
   "execution_count": 20,
   "metadata": {},
   "outputs": [],
   "source": [
    "retriever = vectordb.as_retriever(search_kwargs={\"k\": 3})"
   ]
  },
  {
   "cell_type": "code",
   "execution_count": 21,
   "metadata": {},
   "outputs": [
    {
     "data": {
      "text/plain": [
       "True"
      ]
     },
     "execution_count": 21,
     "metadata": {},
     "output_type": "execute_result"
    }
   ],
   "source": [
    "from dotenv import  load_dotenv\n",
    "from langchain import HuggingFaceHub,LLMChain\n",
    "\n",
    "load_dotenv()"
   ]
  },
  {
   "cell_type": "code",
   "execution_count": 22,
   "metadata": {},
   "outputs": [],
   "source": [
    "llm=HuggingFaceHub(repo_id=\"google/gemma-7b-it\")"
   ]
  },
  {
   "cell_type": "code",
   "execution_count": 23,
   "metadata": {},
   "outputs": [],
   "source": [
    "\n",
    "qa_chain = RetrievalQA.from_chain_type(llm=llm, \n",
    "                                  chain_type=\"stuff\", \n",
    "                                  retriever=retriever, \n",
    "                                  return_source_documents=True)"
   ]
  },
  {
   "cell_type": "code",
   "execution_count": 24,
   "metadata": {},
   "outputs": [],
   "source": [
    "## Cite sources\n",
    "\n",
    "import textwrap\n",
    "\n",
    "def wrap_text_preserve_newlines(text, width=110):\n",
    "    # Split the input text into lines based on newline characters\n",
    "    lines = text.split('\\n')\n",
    "\n",
    "    # Wrap each line individually\n",
    "    wrapped_lines = [textwrap.fill(line, width=width) for line in lines]\n",
    "\n",
    "    # Join the wrapped lines back together using newline characters\n",
    "    wrapped_text = '\\n'.join(wrapped_lines)\n",
    "\n",
    "    return wrapped_text"
   ]
  },
  {
   "cell_type": "code",
   "execution_count": 25,
   "metadata": {},
   "outputs": [],
   "source": [
    "def process_llm_response(llm_response):\n",
    "    print(wrap_text_preserve_newlines(llm_response['result']))\n",
    "    print('\\n\\nSources:')\n",
    "    for source in llm_response[\"source_documents\"]:\n",
    "        print(source.metadata['source'])"
   ]
  },
  {
   "cell_type": "code",
   "execution_count": 26,
   "metadata": {},
   "outputs": [
    {
     "name": "stderr",
     "output_type": "stream",
     "text": [
      "c:\\Users\\GokulSivakumar\\Desktop\\Sentance_Transformation\\.venv\\Lib\\site-packages\\langchain_core\\_api\\deprecation.py:117: LangChainDeprecationWarning: The function `__call__` was deprecated in LangChain 0.1.0 and will be removed in 0.2.0. Use invoke instead.\n",
      "  warn_deprecated(\n"
     ]
    },
    {
     "name": "stdout",
     "output_type": "stream",
     "text": [
      "Use the following pieces of context to answer the question at the end. If you don't know the answer, just say\n",
      "that you don't know, don't try to make up an answer.\n",
      "\n",
      "size: XL\n",
      "brand: The Indian Garage Co\n",
      "care_instructions: Cotton  | Machine-wash\n",
      "dominant_material: Cotton\n",
      "title: The Indian Garage Co Men Blue & White Printed A-Line Kurta\n",
      "actual_color: Blue | White\n",
      "dominant_color: Blue\n",
      "product_type: A-Line Kurta\n",
      "body: Blue and white printed A-line kurta, has a mandarin collar, long sleeves, zip closure, shoulder tabs,\n",
      "curved hem, side slits\n",
      "The model (height 6') is wearing a size M\n",
      "Cotton  Machine-wash\n",
      "From The Indian Garage Co, this kurta is a great way to show off your style.  You'll look dapper as ever in\n",
      "this blue piece paired with slim jeans and sandals, ideal for any nice family gathering.\n",
      "product_details: Blue and white printed A-line kurta, has a mandarin collar, long sleeves, zip closure,\n",
      "shoulder tabs, curved hem, side slits\n",
      "size_fit: The model (height 6') is wearing a size M\n",
      "\n",
      "size: XL\n",
      "brand: House of Pataudi\n",
      "care_instructions: 100% cottonMachine-wash\n",
      "dominant_material: cotton\n",
      "title: House of Pataudi Men Black Printed Straight Kurta\n",
      "actual_color: Black\n",
      "dominant_color: Black\n",
      "product_type: Straight Kurta\n",
      "body: Black printed straight kurta, has a mandarin collar, long sleeves, straight hem, side slits and two\n",
      "pockets\n",
      "The model (height 6') is wearing a size M\n",
      "From House of Pataudi, this kurta is a great way to show off your style.  Dress this black piece up with your\n",
      "favourite accessories and head out to any family event in style.\n",
      "100% cottonMachine-wash\n",
      "product_details: Black printed straight kurta, has a mandarin collar, long sleeves, straight hem, side slits\n",
      "and two pockets\n",
      "size_fit: The model (height 6') is wearing a size M\n",
      "complete_the_look: From House of Pataudi, this kurta is a great way to show off your style.  Dress this black\n",
      "piece up with your favourite accessories and head out to any family event in style.\n",
      "\n",
      "size: L\n",
      "brand: Wintage\n",
      "care_instructions: Kurta fabric: linen | Bottom fabric: pure cotton | Dry-clean\n",
      "dominant_material: Linen\n",
      "title: Wintage Men Beige Solid Kurta with Pyjamas\n",
      "actual_color: Beige\n",
      "dominant_color: Beige\n",
      "product_type: Kurta with Pyjamas\n",
      "body: Beige solid kurta with pyjamas Beige straight knee length kurta, has a mandarin collar, long sleeves,\n",
      "straight hem, side slits Whitesolid pyjamas, drawstring closure\n",
      "The model (height 6') is wearing a size M\n",
      "From Wintage, this kurta is a great way to show off your style.  Dress this beige piece up with your favourite\n",
      "accessories and head out to any family event in style.\n",
      "Kurta fabric: linen Bottom fabric: pure cotton Dry-clean\n",
      "product_details: Beige solid kurta with pyjamas Beige straight knee length kurta, has a mandarin collar, long\n",
      "sleeves, straight hem, side slits Whitesolid pyjamas, drawstring closure\n",
      "size_fit: The model (height 6') is wearing a size M\n",
      "\n",
      "Question: unisex dominant color\n",
      "Helpful Answer:\n",
      "\n",
      "I do not know the answer to this question. The text does not provide information about unisex dominant color.\n",
      "\n",
      "\n",
      "Sources:\n",
      "C:\\Users\\GokulSivakumar\\Desktop\\Sentance_Transformation\\marketing_sample_for_myntra_com-ecommerce__20190601_20190831__15k_data.csv\n",
      "C:\\Users\\GokulSivakumar\\Desktop\\Sentance_Transformation\\marketing_sample_for_myntra_com-ecommerce__20190601_20190831__15k_data.csv\n",
      "C:\\Users\\GokulSivakumar\\Desktop\\Sentance_Transformation\\marketing_sample_for_myntra_com-ecommerce__20190601_20190831__15k_data.csv\n"
     ]
    }
   ],
   "source": [
    "# full example\n",
    "query = \"unisex dominant color\"\n",
    "llm_response = qa_chain(query)\n",
    "process_llm_response(llm_response)"
   ]
  }
 ],
 "metadata": {
  "kernelspec": {
   "display_name": ".venv",
   "language": "python",
   "name": "python3"
  },
  "language_info": {
   "codemirror_mode": {
    "name": "ipython",
    "version": 3
   },
   "file_extension": ".py",
   "mimetype": "text/x-python",
   "name": "python",
   "nbconvert_exporter": "python",
   "pygments_lexer": "ipython3",
   "version": "3.11.8"
  }
 },
 "nbformat": 4,
 "nbformat_minor": 2
}
